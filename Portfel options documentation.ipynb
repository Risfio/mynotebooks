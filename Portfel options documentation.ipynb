{
 "cells": [
  {
   "cell_type": "code",
   "execution_count": 21,
   "metadata": {},
   "outputs": [],
   "source": [
    "import pandas as pd\n",
    "\n",
    "import portfel\n",
    "from portfel.portfel.markets import BrockerDeal\n",
    "from portfel.portfel.options import fromstring"
   ]
  },
  {
   "cell_type": "markdown",
   "metadata": {},
   "source": [
    "#### Тестируем BrockerDeal"
   ]
  },
  {
   "cell_type": "markdown",
   "metadata": {},
   "source": [
    "Введем 4 типа опциона. Для теста будем использовать стратегию типа кондор."
   ]
  },
  {
   "cell_type": "code",
   "execution_count": 22,
   "metadata": {},
   "outputs": [],
   "source": [
    "call_buy = \"Si67500BC0\"\n",
    "call_sell = \"Si66500BC0\"\n",
    "put_buy = \"Si66000BO0\"\n",
    "put_sell = \"Si67000BO0\""
   ]
  },
  {
   "cell_type": "code",
   "execution_count": 23,
   "metadata": {},
   "outputs": [],
   "source": [
    "cb = BrockerDeal(fromstring(call_buy), 777)\n",
    "cs = BrockerDeal(fromstring(call_sell), 1000, 0)\n",
    "pb = BrockerDeal(fromstring(put_buy), 700)\n",
    "ps = BrockerDeal(fromstring(put_sell), 1000, 0)"
   ]
  },
  {
   "cell_type": "code",
   "execution_count": 24,
   "metadata": {},
   "outputs": [
    {
     "data": {
      "text/plain": [
       "<matplotlib.axes._subplots.AxesSubplot at 0x24bf323dac8>"
      ]
     },
     "execution_count": 24,
     "metadata": {},
     "output_type": "execute_result"
    },
    {
     "data": {
      "image/png": "[encoded data removed]",
      "text/plain": [
       "<Figure size 432x288 with 1 Axes>"
      ]
     },
     "metadata": {
      "needs_background": "light"
     },
     "output_type": "display_data"
    }
   ],
   "source": [
    "ba_range = range(64000, 72000, 250)\n",
    "result = []\n",
    "for x in ba_range:\n",
    "    revenue = 0\n",
    "    for deal in [cb, cs, pb, ps]:\n",
    "        revenue += deal.execute_deal(x)\n",
    "    result.append(revenue)\n",
    "\n",
    "ts = pd.Series(result, index=ba_range)\n",
    "\n",
    "import matplotlib.pyplot as plt\n",
    "fig = plt.figure()\n",
    "ax = fig.add_subplot(111)\n",
    "ax.set_ylabel('revenue')\n",
    "ax.spines['bottom'].set_position('zero')       # x-axis where y=0\n",
    "ax.spines['top'].set_color('none')             # hide top axis\n",
    "ax.spines['right'].set_color('none')\n",
    "\n",
    "ts.plot(ylim=(-8000, 8000))"
   ]
  }
 ],
 "metadata": {
  "kernelspec": {
   "display_name": "Python 3",
   "language": "python",
   "name": "python3"
  },
  "language_info": {
   "codemirror_mode": {
    "name": "ipython",
    "version": 3
   },
   "file_extension": ".py",
   "mimetype": "text/x-python",
   "name": "python",
   "nbconvert_exporter": "python",
   "pygments_lexer": "ipython3",
   "version": "3.7.1"
  }
 },
 "nbformat": 4,
 "nbformat_minor": 2
}
