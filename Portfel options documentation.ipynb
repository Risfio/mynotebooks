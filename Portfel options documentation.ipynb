{
 "cells": [
  {
   "cell_type": "code",
<<<<<<< HEAD
   "execution_count": 21,
   "metadata": {},
=======
   "execution_count": 9,
   "metadata": {
    "collapsed": true
   },
>>>>>>> 7f03dcd5d0eaa313e680f1e8bd60536cee8304a5
   "outputs": [],
   "source": [
    "import pandas as pd\n",
    "%matplotlib inline\n",
    "import matplotlib.pyplot as plt\n",
    "\n",
    "import portfel\n",
    "from portfel.portfel.markets import BrockerDeal\n",
    "from portfel.portfel.options import fromstring"
   ]
  },
  {
   "cell_type": "markdown",
   "metadata": {},
   "source": [
    "#### Тестируем BrockerDeal"
   ]
  },
  {
   "cell_type": "markdown",
   "metadata": {},
   "source": [
    "Введем 4 типа опциона. Для теста будем использовать стратегию типа кондор."
   ]
  },
  {
   "cell_type": "code",
<<<<<<< HEAD
   "execution_count": 22,
   "metadata": {},
=======
   "execution_count": 10,
   "metadata": {
    "collapsed": true
   },
>>>>>>> 7f03dcd5d0eaa313e680f1e8bd60536cee8304a5
   "outputs": [],
   "source": [
    "call_buy = \"Si67500BC0\"\n",
    "call_sell = \"Si66500BC0\"\n",
    "put_buy = \"Si66000BO0\"\n",
    "put_sell = \"Si67000BO0\""
   ]
  },
  {
   "cell_type": "code",
<<<<<<< HEAD
   "execution_count": 23,
   "metadata": {},
=======
   "execution_count": 11,
   "metadata": {
    "collapsed": true
   },
>>>>>>> 7f03dcd5d0eaa313e680f1e8bd60536cee8304a5
   "outputs": [],
   "source": [
    "cb = BrockerDeal(fromstring(call_buy), 777)\n",
    "cs = BrockerDeal(fromstring(call_sell), 1000, 0)\n",
    "pb = BrockerDeal(fromstring(put_buy), 700)\n",
    "ps = BrockerDeal(fromstring(put_sell), 1000, 0)"
   ]
  },
  {
   "cell_type": "code",
<<<<<<< HEAD
   "execution_count": 24,
   "metadata": {},
=======
   "execution_count": 12,
   "metadata": {
    "collapsed": false
   },
>>>>>>> 7f03dcd5d0eaa313e680f1e8bd60536cee8304a5
   "outputs": [
    {
     "data": {
      "text/plain": [
<<<<<<< HEAD
       "<matplotlib.axes._subplots.AxesSubplot at 0x24bf323dac8>"
      ]
     },
     "execution_count": 24,
=======
       "<matplotlib.axes._subplots.AxesSubplot at 0x3983ed0>"
      ]
     },
     "execution_count": 12,
>>>>>>> 7f03dcd5d0eaa313e680f1e8bd60536cee8304a5
     "metadata": {},
     "output_type": "execute_result"
    },
    {
     "data": {
<<<<<<< HEAD
      "image/png": "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\n",
=======
      "image/png": "iVBORw0KGgoAAAANSUhEUgAAAZIAAAD3CAYAAAA3zNKnAAAABHNCSVQICAgIfAhkiAAAAAlwSFlz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\nYIvLWxgAAAAASUVORK5CYII=\n",
>>>>>>> 7f03dcd5d0eaa313e680f1e8bd60536cee8304a5
      "text/plain": [
       "<matplotlib.figure.Figure at 0x6a42e30>"
      ]
     },
     "metadata": {},
     "output_type": "display_data"
    }
   ],
   "source": [
    "ba_range = range(64000, 72000, 250)\n",
    "result = []\n",
    "for x in ba_range:\n",
    "    revenue = 0\n",
    "    for deal in [cb, cs, pb, ps]:\n",
    "        revenue += deal.execute_deal(x)\n",
    "    result.append(revenue)\n",
    "\n",
    "ts = pd.Series(result, index=ba_range)\n",
    "\n",
    "fig = plt.figure()\n",
    "ax = fig.add_subplot(111)\n",
    "ax.set_ylabel('revenue')\n",
    "ax.spines['bottom'].set_position('zero')       # x-axis where y=0\n",
    "ax.spines['top'].set_color('none')             # hide top axis\n",
    "ax.spines['right'].set_color('none')\n",
    "\n",
    "ts.plot(ylim=(-8000, 8000))"
   ]
  }
 ],
 "metadata": {
  "kernelspec": {
   "display_name": "Python 3",
   "language": "python",
   "name": "python3"
  },
  "language_info": {
   "codemirror_mode": {
    "name": "ipython",
    "version": 3
   },
   "file_extension": ".py",
   "mimetype": "text/x-python",
   "name": "python",
   "nbconvert_exporter": "python",
   "pygments_lexer": "ipython3",
   "version": "3.5.1"
  }
 },
 "nbformat": 4,
 "nbformat_minor": 2
}
