{
 "cells": [
  {
   "cell_type": "markdown",
   "metadata": {},
   "source": [
    "## Option Si-12.18"
   ]
  },
  {
   "cell_type": "code",
   "execution_count": 4,
   "metadata": {
    "scrolled": true
   },
   "outputs": [
    {
     "ename": "ValueError",
     "evalue": "not enough values to unpack (expected 5, got 3)",
     "output_type": "error",
     "traceback": [
      "\u001b[1;31m---------------------------------------------------------------------------\u001b[0m",
      "\u001b[1;31mValueError\u001b[0m                                Traceback (most recent call last)",
      "\u001b[1;32m<ipython-input-4-80dd3a3c3fc2>\u001b[0m in \u001b[0;36m<module>\u001b[1;34m\u001b[0m\n\u001b[0;32m      6\u001b[0m \u001b[0mBA_range\u001b[0m \u001b[1;33m=\u001b[0m \u001b[0mrange\u001b[0m\u001b[1;33m(\u001b[0m\u001b[1;36m64000\u001b[0m\u001b[1;33m,\u001b[0m \u001b[1;36m72000\u001b[0m\u001b[1;33m,\u001b[0m \u001b[1;36m100\u001b[0m\u001b[1;33m)\u001b[0m\u001b[1;33m\u001b[0m\u001b[1;33m\u001b[0m\u001b[0m\n\u001b[0;32m      7\u001b[0m \u001b[1;33m\u001b[0m\u001b[0m\n\u001b[1;32m----> 8\u001b[1;33m \u001b[0mopt1\u001b[0m \u001b[1;33m=\u001b[0m \u001b[0mOption\u001b[0m\u001b[1;33m(\u001b[0m\u001b[1;36m66500\u001b[0m\u001b[1;33m,\u001b[0m \u001b[1;36m1345\u001b[0m\u001b[1;33m,\u001b[0m \u001b[1;34m'BUY_CALL'\u001b[0m\u001b[1;33m)\u001b[0m\u001b[1;33m\u001b[0m\u001b[1;33m\u001b[0m\u001b[0m\n\u001b[0m\u001b[0;32m      9\u001b[0m \u001b[1;33m\u001b[0m\u001b[0m\n\u001b[0;32m     10\u001b[0m \u001b[0mrevenues\u001b[0m \u001b[1;33m=\u001b[0m \u001b[0mlist\u001b[0m\u001b[1;33m(\u001b[0m\u001b[0mmap\u001b[0m\u001b[1;33m(\u001b[0m\u001b[0mopt1\u001b[0m\u001b[1;33m.\u001b[0m\u001b[0mget_revenue\u001b[0m\u001b[1;33m,\u001b[0m \u001b[0mBA_range\u001b[0m\u001b[1;33m)\u001b[0m\u001b[1;33m)\u001b[0m\u001b[1;33m\u001b[0m\u001b[1;33m\u001b[0m\u001b[0m\n",
      "\u001b[1;32m~\\documents\\projects\\notebooks\\portfel\\portfel\\options.py\u001b[0m in \u001b[0;36m__init__\u001b[1;34m(self, *args, **kwargs)\u001b[0m\n\u001b[0;32m    198\u001b[0m     \u001b[1;32mdef\u001b[0m \u001b[0m__init__\u001b[0m\u001b[1;33m(\u001b[0m\u001b[0mself\u001b[0m\u001b[1;33m,\u001b[0m \u001b[1;33m*\u001b[0m\u001b[0margs\u001b[0m\u001b[1;33m,\u001b[0m \u001b[1;33m**\u001b[0m\u001b[0mkwargs\u001b[0m\u001b[1;33m)\u001b[0m\u001b[1;33m:\u001b[0m\u001b[1;33m\u001b[0m\u001b[1;33m\u001b[0m\u001b[0m\n\u001b[0;32m    199\u001b[0m \u001b[1;33m\u001b[0m\u001b[0m\n\u001b[1;32m--> 200\u001b[1;33m         \u001b[0mself\u001b[0m\u001b[1;33m.\u001b[0m\u001b[0mbase_active\u001b[0m\u001b[1;33m,\u001b[0m \u001b[0mself\u001b[0m\u001b[1;33m.\u001b[0m\u001b[0mstrike\u001b[0m\u001b[1;33m,\u001b[0m \u001b[0mself\u001b[0m\u001b[1;33m.\u001b[0m\u001b[0msettlement\u001b[0m\u001b[1;33m,\u001b[0m \u001b[0mself\u001b[0m\u001b[1;33m.\u001b[0m\u001b[0mmonth\u001b[0m\u001b[1;33m,\u001b[0m \u001b[0mself\u001b[0m\u001b[1;33m.\u001b[0m\u001b[0myear\u001b[0m \u001b[1;33m=\u001b[0m \u001b[0margs\u001b[0m\u001b[1;33m\u001b[0m\u001b[1;33m\u001b[0m\u001b[0m\n\u001b[0m\u001b[0;32m    201\u001b[0m \u001b[1;33m\u001b[0m\u001b[0m\n\u001b[0;32m    202\u001b[0m         \u001b[1;32mfor\u001b[0m \u001b[0mk\u001b[0m \u001b[1;32min\u001b[0m \u001b[0mkwargs\u001b[0m\u001b[1;33m.\u001b[0m\u001b[0mkeys\u001b[0m\u001b[1;33m(\u001b[0m\u001b[1;33m)\u001b[0m\u001b[1;33m:\u001b[0m\u001b[1;33m\u001b[0m\u001b[1;33m\u001b[0m\u001b[0m\n",
      "\u001b[1;31mValueError\u001b[0m: not enough values to unpack (expected 5, got 3)"
     ]
    }
   ],
   "source": [
    "import pandas as pd\n",
    "import sys, os\n",
    "sys.path.append(os.path.join(os.path.dirname(os.path.curdir), 'options'))\n",
    "from portfel.portfel.options import Option\n",
    "\n",
    "BA_range = range(64000, 72000, 100)\n",
    "\n",
    "opt1 = Option(66500, 1345, 'BUY_CALL')\n",
    "\n",
    "revenues = list(map(opt1.get_revenue, BA_range))\n",
    "\n",
    "ts = pd.Series(revenues, index=BA_range)\n",
    "\n",
    "import matplotlib.pyplot as plt\n",
    "fig = plt.figure()\n",
    "ax = fig.add_subplot(111)\n",
    "ax.set_ylabel('revenue')\n",
    "ax.spines['bottom'].set_position('zero')       # x-axis where y=0\n",
    "ax.spines['top'].set_color('none')             # hide top axis\n",
    "ax.spines['right'].set_color('none')\n",
    "\n",
    "ts.plot(ylim=(-8000, 8000))"
   ]
  },
  {
   "cell_type": "code",
   "execution_count": null,
   "metadata": {},
   "outputs": [],
   "source": [
    "import pandas as pd\n",
    "import sys, os\n",
    "sys.path.append(os.path.join(os.path.dirname(os.path.curdir), 'options'))\n",
    "from options.base import Option\n",
    "\n",
    "BA_range = range(64000, 72000, 100)\n",
    "\n",
    "opt2 = Option(66500, 900, 'BUY_PUT')\n",
    "\n",
    "revenues2 = list(map(opt2.get_revenue, BA_range))\n",
    "\n",
    "ts = pd.Series(revenues2, index=BA_range)\n",
    "\n",
    "import matplotlib.pyplot as plt\n",
    "fig = plt.figure()\n",
    "ax = fig.add_subplot(111)\n",
    "ax.set_ylabel('revenue')\n",
    "ax.spines['bottom'].set_position('zero')       # x-axis where y=0\n",
    "ax.spines['top'].set_color('none')             # hide top axis\n",
    "ax.spines['right'].set_color('none')\n",
    "\n",
    "ts.plot(ylim=(-8000, 8000))"
   ]
  },
  {
   "cell_type": "code",
   "execution_count": null,
   "metadata": {},
   "outputs": [],
   "source": [
    "import pandas as pd\n",
    "import sys, os\n",
    "sys.path.append(os.path.join(os.path.dirname(os.path.curdir), 'options'))\n",
    "from options.base import Option\n",
    "\n",
    "BA_range = range(64000, 72000, 100)\n",
    "\n",
    "opt1 = Option(66500, 1345, 'BUY_CALL')\n",
    "opt2 = Option(66500, 900, 'BUY_PUT')\n",
    "\n",
    "revenues2 = list(map(opt2.get_revenue, BA_range))\n",
    "revenues1 = list(map(opt1.get_revenue, BA_range))\n",
    "\n",
    "def get_complex_revenues(lst1, lst2):\n",
    "    result = []\n",
    "    for x in range(lst1.__len__()):\n",
    "        result.append(lst1[x]+lst2[x])\n",
    "    return result\n",
    "\n",
    "ts = pd.Series(get_complex_revenues(revenues1, revenues2), index=BA_range)\n",
    "\n",
    "import matplotlib.pyplot as plt\n",
    "fig = plt.figure()\n",
    "ax = fig.add_subplot(111)\n",
    "ax.set_ylabel('revenue')\n",
    "ax.spines['bottom'].set_position('zero')       # x-axis where y=0\n",
    "ax.spines['top'].set_color('none')             # hide top axis\n",
    "ax.spines['right'].set_color('none')\n",
    "\n",
    "ts.plot(ylim=(-8000, 8000))"
   ]
  },
  {
   "cell_type": "code",
   "execution_count": null,
   "metadata": {},
   "outputs": [],
   "source": []
  }
 ],
 "metadata": {
  "kernelspec": {
   "display_name": "Python 3",
   "language": "python",
   "name": "python3"
  },
  "language_info": {
   "codemirror_mode": {
    "name": "ipython",
    "version": 3
   },
   "file_extension": ".py",
   "mimetype": "text/x-python",
   "name": "python",
   "nbconvert_exporter": "python",
   "pygments_lexer": "ipython3",
   "version": "3.7.1"
  }
 },
 "nbformat": 4,
 "nbformat_minor": 2
}
